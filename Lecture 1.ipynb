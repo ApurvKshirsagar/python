{
 "cells": [
  {
   "cell_type": "code",
   "execution_count": 1,
   "id": "8a766227",
   "metadata": {},
   "outputs": [
    {
     "name": "stdout",
     "output_type": "stream",
     "text": [
      "Hello World\n"
     ]
    }
   ],
   "source": [
    "print(\"Hello World\")"
   ]
  },
  {
   "cell_type": "code",
   "execution_count": 2,
   "id": "0808346f",
   "metadata": {},
   "outputs": [
    {
     "name": "stdout",
     "output_type": "stream",
     "text": [
      "Apurv Kshirsagar\n"
     ]
    }
   ],
   "source": [
    "print(\"Apurv Kshirsagar\")"
   ]
  },
  {
   "cell_type": "code",
   "execution_count": 3,
   "id": "f101e0ad",
   "metadata": {},
   "outputs": [
    {
     "ename": "NameError",
     "evalue": "name 'Print' is not defined",
     "output_type": "error",
     "traceback": [
      "\u001b[1;31m---------------------------------------------------------------------------\u001b[0m",
      "\u001b[1;31mNameError\u001b[0m                                 Traceback (most recent call last)",
      "\u001b[1;32m~\\AppData\\Local\\Temp\\ipykernel_25844\\171538547.py\u001b[0m in \u001b[0;36m<module>\u001b[1;34m\u001b[0m\n\u001b[1;32m----> 1\u001b[1;33m \u001b[0mPrint\u001b[0m\u001b[1;33m(\u001b[0m\u001b[1;34m\"Apurv\"\u001b[0m\u001b[1;33m)\u001b[0m\u001b[1;33m\u001b[0m\u001b[1;33m\u001b[0m\u001b[0m\n\u001b[0m",
      "\u001b[1;31mNameError\u001b[0m: name 'Print' is not defined"
     ]
    }
   ],
   "source": [
    "Print(\"Apurv\")"
   ]
  },
  {
   "cell_type": "markdown",
   "id": "36f1cffc",
   "metadata": {},
   "source": [
    "### Python is case-sensitive"
   ]
  },
  {
   "cell_type": "markdown",
   "id": "d4785dff",
   "metadata": {},
   "source": [
    "#### Apurv"
   ]
  },
  {
   "cell_type": "markdown",
   "id": "43a901a5",
   "metadata": {},
   "source": [
    "#### Python is case-sensitive"
   ]
  },
  {
   "cell_type": "markdown",
   "id": "96087af7",
   "metadata": {},
   "source": [
    "##### Apurv"
   ]
  },
  {
   "cell_type": "code",
   "execution_count": 5,
   "id": "cedb0cd6",
   "metadata": {},
   "outputs": [
    {
     "ename": "NameError",
     "evalue": "name 'Apurv' is not defined",
     "output_type": "error",
     "traceback": [
      "\u001b[1;31m---------------------------------------------------------------------------\u001b[0m",
      "\u001b[1;31mNameError\u001b[0m                                 Traceback (most recent call last)",
      "\u001b[1;32m~\\AppData\\Local\\Temp\\ipykernel_25844\\4196535857.py\u001b[0m in \u001b[0;36m<module>\u001b[1;34m\u001b[0m\n\u001b[1;32m----> 1\u001b[1;33m \u001b[0mprint\u001b[0m\u001b[1;33m(\u001b[0m\u001b[0mApurv\u001b[0m\u001b[1;33m)\u001b[0m\u001b[1;33m\u001b[0m\u001b[1;33m\u001b[0m\u001b[0m\n\u001b[0m",
      "\u001b[1;31mNameError\u001b[0m: name 'Apurv' is not defined"
     ]
    }
   ],
   "source": [
    "print(Apurv)"
   ]
  },
  {
   "cell_type": "code",
   "execution_count": 6,
   "id": "1a486ee8",
   "metadata": {},
   "outputs": [
    {
     "name": "stdout",
     "output_type": "stream",
     "text": [
      "10\n"
     ]
    }
   ],
   "source": [
    "print(10)"
   ]
  },
  {
   "cell_type": "markdown",
   "id": "0fe02016",
   "metadata": {},
   "source": [
    "# Hello"
   ]
  },
  {
   "cell_type": "code",
   "execution_count": 8,
   "id": "45b6b70f",
   "metadata": {},
   "outputs": [
    {
     "name": "stdout",
     "output_type": "stream",
     "text": [
      "L\n"
     ]
    }
   ],
   "source": [
    "print('L')"
   ]
  },
  {
   "cell_type": "code",
   "execution_count": 9,
   "id": "17f02a6f",
   "metadata": {},
   "outputs": [
    {
     "ename": "SyntaxError",
     "evalue": "EOF while scanning triple-quoted string literal (1051437675.py, line 1)",
     "output_type": "error",
     "traceback": [
      "\u001b[1;36m  File \u001b[1;32m\"C:\\Users\\APURV KSHIRSAGAR\\AppData\\Local\\Temp\\ipykernel_25844\\1051437675.py\"\u001b[1;36m, line \u001b[1;32m1\u001b[0m\n\u001b[1;33m    print(\"\"\"\")\u001b[0m\n\u001b[1;37m               ^\u001b[0m\n\u001b[1;31mSyntaxError\u001b[0m\u001b[1;31m:\u001b[0m EOF while scanning triple-quoted string literal\n"
     ]
    }
   ],
   "source": [
    "aprint(\"\"\"\")"
   ]
  },
  {
   "cell_type": "code",
   "execution_count": 10,
   "id": "aa1baec2",
   "metadata": {},
   "outputs": [
    {
     "name": "stdout",
     "output_type": "stream",
     "text": [
      "40\n"
     ]
    }
   ],
   "source": [
    "print(\"40\")"
   ]
  },
  {
   "cell_type": "code",
   "execution_count": 11,
   "id": "fa9d31ec",
   "metadata": {},
   "outputs": [
    {
     "name": "stdout",
     "output_type": "stream",
     "text": [
      "10\n"
     ]
    }
   ],
   "source": [
    "print('10')"
   ]
  },
  {
   "cell_type": "markdown",
   "id": "e6f94637",
   "metadata": {},
   "source": [
    "### String should be in inverted commas"
   ]
  },
  {
   "cell_type": "code",
   "execution_count": 12,
   "id": "ae676894",
   "metadata": {},
   "outputs": [
    {
     "name": "stdout",
     "output_type": "stream",
     "text": [
      "3\n"
     ]
    }
   ],
   "source": [
    "print(3)"
   ]
  },
  {
   "cell_type": "code",
   "execution_count": 13,
   "id": "866c71d8",
   "metadata": {},
   "outputs": [
    {
     "data": {
      "text/plain": [
       "int"
      ]
     },
     "execution_count": 13,
     "metadata": {},
     "output_type": "execute_result"
    }
   ],
   "source": [
    "x=10\n",
    "type(x)"
   ]
  },
  {
   "cell_type": "code",
   "execution_count": 14,
   "id": "f1ee62b2",
   "metadata": {},
   "outputs": [
    {
     "data": {
      "text/plain": [
       "float"
      ]
     },
     "execution_count": 14,
     "metadata": {},
     "output_type": "execute_result"
    }
   ],
   "source": [
    "z=69.0\n",
    "type(z)"
   ]
  },
  {
   "cell_type": "code",
   "execution_count": 15,
   "id": "668470a0",
   "metadata": {},
   "outputs": [
    {
     "data": {
      "text/plain": [
       "str"
      ]
     },
     "execution_count": 15,
     "metadata": {},
     "output_type": "execute_result"
    }
   ],
   "source": [
    "course=\"Data Science\"\n",
    "type(course)"
   ]
  },
  {
   "cell_type": "code",
   "execution_count": 16,
   "id": "4752f478",
   "metadata": {},
   "outputs": [
    {
     "name": "stdout",
     "output_type": "stream",
     "text": [
      "69\n"
     ]
    }
   ],
   "source": [
    "print(69)"
   ]
  },
  {
   "cell_type": "code",
   "execution_count": 18,
   "id": "ceeb3902",
   "metadata": {},
   "outputs": [
    {
     "data": {
      "text/plain": [
       "('AB', 'BC', 'cd')"
      ]
     },
     "execution_count": 18,
     "metadata": {},
     "output_type": "execute_result"
    }
   ],
   "source": [
    "coursenames='AB',\"BC\",'cd'\n",
    "coursenames"
   ]
  },
  {
   "cell_type": "code",
   "execution_count": 19,
   "id": "35ac0599",
   "metadata": {},
   "outputs": [
    {
     "ename": "SyntaxError",
     "evalue": "invalid syntax (3902735887.py, line 1)",
     "output_type": "error",
     "traceback": [
      "\u001b[1;36m  File \u001b[1;32m\"C:\\Users\\APURV KSHIRSAGAR\\AppData\\Local\\Temp\\ipykernel_25844\\3902735887.py\"\u001b[1;36m, line \u001b[1;32m1\u001b[0m\n\u001b[1;33m    course names='AB',\"BC\",'cd'\u001b[0m\n\u001b[1;37m           ^\u001b[0m\n\u001b[1;31mSyntaxError\u001b[0m\u001b[1;31m:\u001b[0m invalid syntax\n"
     ]
    }
   ],
   "source": [
    "course names='AB',\"BC\",'cd'\n",
    "course names"
   ]
  },
  {
   "cell_type": "code",
   "execution_count": 20,
   "id": "7ad5d6b6",
   "metadata": {},
   "outputs": [
    {
     "data": {
      "text/plain": [
       "('AB', 'BC', 'cd')"
      ]
     },
     "execution_count": 20,
     "metadata": {},
     "output_type": "execute_result"
    }
   ],
   "source": [
    "course_names='AB',\"BC\",'cd'\n",
    "course_names"
   ]
  },
  {
   "cell_type": "code",
   "execution_count": 21,
   "id": "5899dca8",
   "metadata": {},
   "outputs": [
    {
     "data": {
      "text/plain": [
       "('AB', 'BC', 'cd')"
      ]
     },
     "execution_count": 21,
     "metadata": {},
     "output_type": "execute_result"
    }
   ],
   "source": [
    "coursenames3='AB',\"BC\",'cd'\n",
    "coursenames3"
   ]
  },
  {
   "cell_type": "code",
   "execution_count": 22,
   "id": "93b11872",
   "metadata": {},
   "outputs": [
    {
     "ename": "SyntaxError",
     "evalue": "cannot assign to operator (2077028029.py, line 1)",
     "output_type": "error",
     "traceback": [
      "\u001b[1;36m  File \u001b[1;32m\"C:\\Users\\APURV KSHIRSAGAR\\AppData\\Local\\Temp\\ipykernel_25844\\2077028029.py\"\u001b[1;36m, line \u001b[1;32m1\u001b[0m\n\u001b[1;33m    course*names='AB',\"BC\",'cd'\u001b[0m\n\u001b[1;37m    ^\u001b[0m\n\u001b[1;31mSyntaxError\u001b[0m\u001b[1;31m:\u001b[0m cannot assign to operator\n"
     ]
    }
   ],
   "source": [
    "course*names='AB',\"BC\",'cd'\n",
    "course*names"
   ]
  },
  {
   "cell_type": "code",
   "execution_count": 23,
   "id": "bd3d9b5c",
   "metadata": {},
   "outputs": [
    {
     "data": {
      "text/plain": [
       "('AB', 'BC', 'cd')"
      ]
     },
     "execution_count": 23,
     "metadata": {},
     "output_type": "execute_result"
    }
   ],
   "source": [
    "cou3rsenames='AB',\"BC\",'cd'\n",
    "cou3rsenames"
   ]
  },
  {
   "cell_type": "code",
   "execution_count": null,
   "id": "26599710",
   "metadata": {},
   "outputs": [],
   "source": []
  }
 ],
 "metadata": {
  "kernelspec": {
   "display_name": "Python 3 (ipykernel)",
   "language": "python",
   "name": "python3"
  },
  "language_info": {
   "codemirror_mode": {
    "name": "ipython",
    "version": 3
   },
   "file_extension": ".py",
   "mimetype": "text/x-python",
   "name": "python",
   "nbconvert_exporter": "python",
   "pygments_lexer": "ipython3",
   "version": "3.9.13"
  }
 },
 "nbformat": 4,
 "nbformat_minor": 5
}
